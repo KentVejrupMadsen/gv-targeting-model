{
 "cells": [
  {
   "attachments": {},
   "cell_type": "markdown",
   "metadata": {
    "colab_type": "text",
    "id": "view-in-github"
   },
   "source": [
    "<a \n",
    "    href=\"https://colab.research.google.com/github/KentVejrupMadsen/ml-game-targeting/blob/development/training-validation.ipynb\" \n",
    "    target=\"_parent\">\n",
    "    <img \n",
    "        src=\"https://colab.research.google.com/assets/colab-badge.svg\" \n",
    "        alt=\"Open In Colab\"\n",
    "    />\n",
    "</a>"
   ]
  },
  {
   "attachments": {},
   "cell_type": "markdown",
   "metadata": {},
   "source": [
    "## Preliminaries"
   ]
  },
  {
   "cell_type": "code",
   "execution_count": 38,
   "metadata": {},
   "outputs": [],
   "source": [
    "from os \\\n",
    "    import \\\n",
    "        environ, \\\n",
    "        mkdir, \\\n",
    "        rename, \\\n",
    "        remove as remove_file\n",
    "\n",
    "from os.path \\\n",
    "    import \\\n",
    "        isdir, \\\n",
    "        isfile\n",
    "\n",
    "from zipfile \\\n",
    "    import ZipFile\n",
    "\n",
    "from platform \\\n",
    "    import system"
   ]
  },
  {
   "cell_type": "code",
   "execution_count": 39,
   "metadata": {},
   "outputs": [],
   "source": [
    "import wandb"
   ]
  },
  {
   "cell_type": "code",
   "execution_count": 40,
   "metadata": {},
   "outputs": [],
   "source": [
    "from scripts.seeds\\\n",
    "      import get_randomized_seed\n",
    "\n",
    "from scripts.paths \\\n",
    "    import \\\n",
    "        set_path_to_downloads, \\\n",
    "        get_full_path_to_downloaded_dataset, \\\n",
    "        get_full_path_to_downloaded_videos, \\\n",
    "        get_path_to_downloads\n"
   ]
  },
  {
   "cell_type": "code",
   "execution_count": null,
   "metadata": {
    "id": "tWJX1sxrKb3c"
   },
   "outputs": [],
   "source": [
    "system_platform = system().lower()\n",
    "\n",
    "\n",
    "if system_platform == 'linux':\n",
    "    requirements = !wget 'https://raw.githubusercontent.com/KentVejrupMadsen/ml-game-targeting/main/requirements.txt' -O requirements.txt\n",
    "    %pip install -r requirements.txt\n",
    "\n",
    "\n",
    "if system_platform == 'windows':\n",
    "    %pip install -r requirements.txt\n",
    "\n"
   ]
  },
  {
   "attachments": {},
   "cell_type": "markdown",
   "metadata": {},
   "source": [
    "## Configuration"
   ]
  },
  {
   "cell_type": "code",
   "execution_count": 12,
   "metadata": {},
   "outputs": [],
   "source": [
    "download_folder: str = 'D:\\\\Test' #@param {type:\"string\"}"
   ]
  },
  {
   "attachments": {},
   "cell_type": "markdown",
   "metadata": {},
   "source": [
    "### Kaggle"
   ]
  },
  {
   "cell_type": "code",
   "execution_count": 14,
   "metadata": {
    "tags": []
   },
   "outputs": [],
   "source": [
    "kaggle_username: str = '' #@param {type:\"string\"}\n",
    "kaggle_key: str = '' #@param {type:\"string\"}"
   ]
  },
  {
   "cell_type": "code",
   "execution_count": 15,
   "metadata": {},
   "outputs": [],
   "source": [
    "# turn into environment variables\n",
    "environ['KAGGLE_USERNAME'] = kaggle_username\n",
    "environ['KAGGLE_KEY'] = kaggle_key"
   ]
  },
  {
   "attachments": {},
   "cell_type": "markdown",
   "metadata": {},
   "source": [
    "### Wandb"
   ]
  },
  {
   "cell_type": "code",
   "execution_count": 17,
   "metadata": {},
   "outputs": [],
   "source": [
    "wandb_entity: str = 'designermadsen' #@param {type:\"string\"}\n",
    "wandb_project: str = 'game-map-identification' #@param {type:\"string\"}\n",
    "\n",
    "wandb_save_code: bool = True #@param {type:\"boolean\"}"
   ]
  },
  {
   "attachments": {},
   "cell_type": "markdown",
   "metadata": {},
   "source": [
    "## Setup"
   ]
  },
  {
   "cell_type": "code",
   "execution_count": 18,
   "metadata": {},
   "outputs": [
    {
     "name": "stderr",
     "output_type": "stream",
     "text": [
      "\u001b[34m\u001b[1mwandb\u001b[0m: Currently logged in as: \u001b[33mdesignermadsen\u001b[0m (\u001b[33mio-jaegers\u001b[0m). Use \u001b[1m`wandb login --relogin`\u001b[0m to force relogin\n"
     ]
    },
    {
     "data": {
      "text/plain": [
       "True"
      ]
     },
     "execution_count": 18,
     "metadata": {},
     "output_type": "execute_result"
    }
   ],
   "source": [
    "wandb.login()"
   ]
  },
  {
   "attachments": {},
   "cell_type": "markdown",
   "metadata": {},
   "source": [
    "### Working directories"
   ]
  },
  {
   "cell_type": "code",
   "execution_count": 19,
   "metadata": {},
   "outputs": [
    {
     "name": "stdout",
     "output_type": "stream",
     "text": [
      "exist:  D:\\Test\n",
      "exist:  D:\\Test\\dataset\n",
      "exist:  D:\\Test\\videos\n"
     ]
    }
   ],
   "source": [
    "set_path_to_downloads(download_folder)\n",
    "\n",
    "if isdir(get_path_to_downloads()):\n",
    "    print('exist: ', get_path_to_downloads())\n",
    "else:\n",
    "    print('creating: ', get_path_to_downloads())\n",
    "    mkdir(get_path_to_downloads())\n",
    "\n",
    "\n",
    "if isdir(get_full_path_to_downloaded_dataset()):\n",
    "    print('exist: ', get_full_path_to_downloaded_dataset())\n",
    "else:\n",
    "    print('creating: ', get_full_path_to_downloaded_dataset())\n",
    "    mkdir(get_full_path_to_downloaded_dataset())\n",
    "\n",
    "\n",
    "if isdir(get_full_path_to_downloaded_videos()):\n",
    "    print('exist: ', get_full_path_to_downloaded_videos())\n",
    "else:\n",
    "    print('creating: ', get_full_path_to_downloaded_videos())\n",
    "    mkdir(get_full_path_to_downloaded_videos())\n",
    "\n"
   ]
  },
  {
   "attachments": {},
   "cell_type": "markdown",
   "metadata": {},
   "source": [
    "### Downloading dataset"
   ]
  },
  {
   "cell_type": "code",
   "execution_count": 20,
   "metadata": {},
   "outputs": [
    {
     "name": "stdout",
     "output_type": "stream",
     "text": [
      "Downloading counterstrike-globaloffensive-mapidentification.zip to C:\\Workspace\\ml-game-targeting\n",
      "\n"
     ]
    },
    {
     "name": "stderr",
     "output_type": "stream",
     "text": [
      "\n",
      "  0%|          | 0.00/150M [00:00<?, ?B/s]\n",
      "  1%|          | 1.00M/150M [00:00<00:23, 6.71MB/s]\n",
      "  1%|1         | 2.00M/150M [00:00<00:19, 7.93MB/s]\n",
      "  2%|2         | 3.00M/150M [00:00<00:18, 8.45MB/s]\n",
      "  3%|3         | 5.00M/150M [00:00<00:19, 7.95MB/s]\n",
      "  4%|4         | 6.00M/150M [00:00<00:20, 7.53MB/s]\n",
      "  5%|5         | 8.00M/150M [00:00<00:15, 9.77MB/s]\n",
      "  6%|6         | 9.00M/150M [00:01<00:15, 9.83MB/s]\n",
      "  7%|7         | 11.0M/150M [00:01<00:14, 10.0MB/s]\n",
      "  8%|8         | 12.0M/150M [00:01<00:14, 10.1MB/s]\n",
      "  9%|8         | 13.0M/150M [00:01<00:15, 9.42MB/s]\n",
      "  9%|9         | 14.0M/150M [00:01<00:16, 8.66MB/s]\n",
      " 10%|#         | 15.0M/150M [00:01<00:15, 8.84MB/s]\n",
      " 11%|#         | 16.0M/150M [00:01<00:15, 9.20MB/s]\n",
      " 11%|#1        | 17.0M/150M [00:02<00:16, 8.28MB/s]\n",
      " 12%|#2        | 18.0M/150M [00:02<00:16, 8.52MB/s]\n",
      " 13%|#2        | 19.0M/150M [00:02<00:15, 8.93MB/s]\n",
      " 14%|#4        | 21.0M/150M [00:02<00:14, 9.30MB/s]\n",
      " 15%|#4        | 22.0M/150M [00:02<00:14, 9.47MB/s]\n",
      " 15%|#5        | 23.0M/150M [00:02<00:13, 9.66MB/s]\n",
      " 16%|#6        | 24.0M/150M [00:02<00:15, 8.24MB/s]\n",
      " 17%|#6        | 25.0M/150M [00:02<00:16, 7.91MB/s]\n",
      " 17%|#7        | 26.0M/150M [00:03<00:16, 7.79MB/s]\n",
      " 18%|#8        | 27.0M/150M [00:03<00:16, 7.73MB/s]\n",
      " 19%|#8        | 28.0M/150M [00:03<00:16, 7.82MB/s]\n",
      " 19%|#9        | 29.0M/150M [00:03<00:15, 8.40MB/s]\n",
      " 20%|##        | 30.0M/150M [00:03<00:16, 7.82MB/s]\n",
      " 21%|##        | 31.0M/150M [00:03<00:15, 8.26MB/s]\n",
      " 22%|##2       | 33.0M/150M [00:03<00:13, 9.19MB/s]\n",
      " 23%|##2       | 34.0M/150M [00:04<00:12, 9.42MB/s]\n",
      " 23%|##3       | 35.0M/150M [00:04<00:12, 9.41MB/s]\n",
      " 24%|##4       | 36.0M/150M [00:04<00:12, 9.36MB/s]\n",
      " 25%|##5       | 38.0M/150M [00:04<00:11, 9.96MB/s]\n",
      " 26%|##6       | 39.0M/150M [00:04<00:11, 9.98MB/s]\n",
      " 27%|##6       | 40.0M/150M [00:04<00:15, 7.51MB/s]\n",
      " 27%|##7       | 41.0M/150M [00:04<00:14, 7.79MB/s]\n",
      " 29%|##8       | 43.0M/150M [00:05<00:12, 8.75MB/s]\n",
      " 29%|##9       | 44.0M/150M [00:05<00:13, 8.52MB/s]\n",
      " 30%|###       | 45.0M/150M [00:05<00:12, 8.70MB/s]\n",
      " 31%|###       | 46.0M/150M [00:05<00:12, 8.97MB/s]\n",
      " 32%|###2      | 48.0M/150M [00:05<00:11, 9.68MB/s]\n",
      " 33%|###3      | 50.0M/150M [00:05<00:10, 9.98MB/s]\n",
      " 34%|###4      | 51.0M/150M [00:06<00:10, 9.69MB/s]\n",
      " 35%|###5      | 53.0M/150M [00:06<00:12, 8.14MB/s]\n",
      " 37%|###6      | 55.0M/150M [00:06<00:09, 10.1MB/s]\n",
      " 38%|###8      | 57.0M/150M [00:06<00:11, 8.29MB/s]\n",
      " 39%|###9      | 59.0M/150M [00:06<00:09, 9.82MB/s]\n",
      " 41%|####      | 61.0M/150M [00:07<00:10, 9.24MB/s]\n",
      " 42%|####2     | 63.0M/150M [00:07<00:12, 7.29MB/s]\n",
      " 43%|####2     | 64.0M/150M [00:07<00:12, 7.34MB/s]\n",
      " 43%|####3     | 65.0M/150M [00:07<00:11, 7.56MB/s]\n",
      " 44%|####4     | 66.0M/150M [00:07<00:10, 8.03MB/s]\n",
      " 45%|####5     | 68.0M/150M [00:08<00:09, 8.94MB/s]\n",
      " 46%|####6     | 69.0M/150M [00:08<00:09, 9.19MB/s]\n",
      " 47%|####6     | 70.0M/150M [00:08<00:08, 9.40MB/s]\n",
      " 47%|####7     | 71.0M/150M [00:08<00:08, 9.19MB/s]\n",
      " 48%|####8     | 72.0M/150M [00:08<00:08, 9.44MB/s]\n",
      " 49%|####8     | 73.0M/150M [00:08<00:09, 8.44MB/s]\n",
      " 49%|####9     | 74.0M/150M [00:08<00:08, 8.93MB/s]\n",
      " 50%|#####     | 75.0M/150M [00:08<00:08, 9.20MB/s]\n",
      " 51%|#####     | 76.0M/150M [00:09<00:08, 9.43MB/s]\n",
      " 51%|#####1    | 77.0M/150M [00:09<00:09, 8.10MB/s]\n",
      " 53%|#####2    | 79.0M/150M [00:09<00:08, 8.73MB/s]\n",
      " 54%|#####4    | 81.0M/150M [00:09<00:07, 9.22MB/s]\n",
      " 55%|#####4    | 82.0M/150M [00:09<00:08, 8.82MB/s]\n",
      " 55%|#####5    | 83.0M/150M [00:09<00:08, 8.54MB/s]\n",
      " 56%|#####6    | 84.0M/150M [00:10<00:09, 7.30MB/s]\n",
      " 57%|#####7    | 86.0M/150M [00:10<00:07, 8.50MB/s]\n",
      " 58%|#####8    | 87.0M/150M [00:10<00:07, 8.40MB/s]\n",
      " 59%|#####8    | 88.0M/150M [00:10<00:07, 8.83MB/s]\n",
      " 59%|#####9    | 89.0M/150M [00:10<00:06, 9.21MB/s]\n",
      " 60%|######    | 90.0M/150M [00:10<00:07, 8.77MB/s]\n",
      " 61%|######    | 91.0M/150M [00:10<00:06, 9.05MB/s]\n",
      " 61%|######1   | 92.0M/150M [00:11<00:06, 9.05MB/s]\n",
      " 62%|######2   | 93.0M/150M [00:11<00:06, 9.11MB/s]\n",
      " 63%|######2   | 94.0M/150M [00:11<00:10, 5.31MB/s]\n",
      " 63%|######3   | 95.0M/150M [00:11<00:10, 5.37MB/s]\n",
      " 67%|######6   | 100M/150M [00:11<00:04, 11.3MB/s] \n",
      " 68%|######8   | 102M/150M [00:12<00:04, 10.3MB/s]\n",
      " 69%|######9   | 104M/150M [00:12<00:04, 10.0MB/s]\n",
      " 70%|#######   | 105M/150M [00:12<00:04, 9.75MB/s]\n",
      " 71%|#######1  | 107M/150M [00:12<00:04, 9.84MB/s]\n",
      " 72%|#######2  | 108M/150M [00:12<00:04, 9.82MB/s]\n",
      " 73%|#######2  | 109M/150M [00:12<00:04, 9.56MB/s]\n",
      " 74%|#######4  | 111M/150M [00:13<00:04, 9.02MB/s]\n",
      " 75%|#######4  | 112M/150M [00:13<00:04, 8.75MB/s]\n",
      " 75%|#######5  | 113M/150M [00:13<00:04, 8.78MB/s]\n",
      " 76%|#######6  | 114M/150M [00:13<00:04, 8.64MB/s]\n",
      " 77%|#######6  | 115M/150M [00:13<00:04, 8.36MB/s]\n",
      " 77%|#######7  | 116M/150M [00:13<00:04, 8.77MB/s]\n",
      " 78%|#######8  | 117M/150M [00:13<00:03, 9.12MB/s]\n",
      " 79%|#######8  | 118M/150M [00:14<00:03, 9.34MB/s]\n",
      " 79%|#######9  | 119M/150M [00:14<00:03, 9.29MB/s]\n",
      " 80%|########  | 120M/150M [00:14<00:03, 9.05MB/s]\n",
      " 81%|########  | 121M/150M [00:14<00:03, 9.28MB/s]\n",
      " 81%|########1 | 122M/150M [00:14<00:03, 9.54MB/s]\n",
      " 83%|########2 | 124M/150M [00:14<00:02, 9.39MB/s]\n",
      " 84%|########3 | 125M/150M [00:14<00:03, 7.53MB/s]\n",
      " 85%|########4 | 127M/150M [00:15<00:02, 9.86MB/s]\n",
      " 86%|########6 | 129M/150M [00:15<00:02, 8.07MB/s]\n",
      " 87%|########6 | 130M/150M [00:15<00:02, 8.05MB/s]\n",
      " 88%|########7 | 131M/150M [00:15<00:02, 8.29MB/s]\n",
      " 88%|########8 | 132M/150M [00:15<00:02, 8.65MB/s]\n",
      " 89%|########8 | 133M/150M [00:15<00:01, 8.96MB/s]\n",
      " 90%|######### | 135M/150M [00:16<00:01, 9.52MB/s]\n",
      " 91%|######### | 136M/150M [00:16<00:01, 9.21MB/s]\n",
      " 92%|#########2| 138M/150M [00:16<00:01, 9.62MB/s]\n",
      " 93%|#########2| 139M/150M [00:16<00:01, 9.66MB/s]\n",
      " 94%|#########3| 140M/150M [00:16<00:01, 9.81MB/s]\n",
      " 94%|#########4| 141M/150M [00:16<00:00, 9.47MB/s]\n",
      " 96%|#########5| 143M/150M [00:16<00:00, 9.73MB/s]\n",
      " 96%|#########6| 144M/150M [00:17<00:00, 9.83MB/s]\n",
      " 97%|#########6| 145M/150M [00:17<00:00, 9.86MB/s]\n",
      " 98%|#########7| 146M/150M [00:17<00:00, 9.84MB/s]\n",
      " 99%|#########8| 148M/150M [00:17<00:00, 9.89MB/s]\n",
      "100%|#########9| 149M/150M [00:17<00:00, 9.96MB/s]\n",
      "100%|##########| 150M/150M [00:17<00:00, 8.89MB/s]\n"
     ]
    }
   ],
   "source": [
    "!kaggle datasets download -d kentvejrupmadsen/counterstrike-globaloffensive-mapidentification"
   ]
  },
  {
   "cell_type": "code",
   "execution_count": 21,
   "metadata": {},
   "outputs": [],
   "source": [
    "if isfile('counterstrike-globaloffensive-mapidentification.zip'):\n",
    "    rename('counterstrike-globaloffensive-mapidentification.zip', 'dataset.zip')"
   ]
  },
  {
   "cell_type": "code",
   "execution_count": 22,
   "metadata": {},
   "outputs": [],
   "source": [
    "if isfile('dataset.zip'):\n",
    "    with ZipFile('dataset.zip', 'r') as reference:\n",
    "        reference.extractall(\n",
    "            get_full_path_to_downloaded_dataset()\n",
    "        )\n",
    "\n",
    "    remove_file('dataset.zip')"
   ]
  },
  {
   "cell_type": "code",
   "execution_count": null,
   "metadata": {},
   "outputs": [],
   "source": []
  },
  {
   "attachments": {},
   "cell_type": "markdown",
   "metadata": {},
   "source": [
    "## Done"
   ]
  },
  {
   "cell_type": "code",
   "execution_count": null,
   "metadata": {},
   "outputs": [],
   "source": [
    "wandb.finish()"
   ]
  }
 ],
 "metadata": {
  "colab": {
   "authorship_tag": "ABX9TyMgf00IDnVBqVu9EboB9I+w",
   "include_colab_link": true,
   "provenance": []
  },
  "kernelspec": {
   "display_name": "Python 3 (ipykernel)",
   "language": "python",
   "name": "python3"
  },
  "language_info": {
   "codemirror_mode": {
    "name": "ipython",
    "version": 3
   },
   "file_extension": ".py",
   "mimetype": "text/x-python",
   "name": "python",
   "nbconvert_exporter": "python",
   "pygments_lexer": "ipython3",
   "version": "3.11.3"
  }
 },
 "nbformat": 4,
 "nbformat_minor": 4
}
