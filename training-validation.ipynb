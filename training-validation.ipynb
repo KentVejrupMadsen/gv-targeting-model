{
 "cells": [
  {
   "attachments": {},
   "cell_type": "markdown",
   "metadata": {
    "colab_type": "text",
    "id": "view-in-github"
   },
   "source": [
    "<a href=\"https://colab.research.google.com/github/KentVejrupMadsen/ml-game-targeting/blob/main/notebook.ipynb\" target=\"_parent\"><img src=\"https://colab.research.google.com/assets/colab-badge.svg\" alt=\"Open In Colab\"/></a>"
   ]
  },
  {
   "attachments": {},
   "cell_type": "markdown",
   "metadata": {},
   "source": [
    "## Preliminaries"
   ]
  },
  {
   "cell_type": "code",
   "execution_count": null,
   "metadata": {
    "id": "tWJX1sxrKb3c",
    "vscode": {
     "languageId": "python"
    }
   },
   "outputs": [],
   "source": [
    "!wget 'https://raw.githubusercontent.com/KentVejrupMadsen/ml-game-targeting/main/requirements.txt' -O requirements.txt\n",
    "%pip install -r requirements.txt"
   ]
  },
  {
   "cell_type": "code",
   "execution_count": null,
   "metadata": {
    "vscode": {
     "languageId": "python"
    }
   },
   "outputs": [],
   "source": [
    "from os import environ\n",
    "import wandb"
   ]
  },
  {
   "cell_type": "code",
   "execution_count": 30,
   "metadata": {
    "vscode": {
     "languageId": "python"
    }
   },
   "outputs": [
    {
     "name": "stdout",
     "output_type": "stream",
     "text": [
      "2591842\n"
     ]
    }
   ],
   "source": [
    "from scripts.seeds import get_randomized_seed\n"
   ]
  },
  {
   "attachments": {},
   "cell_type": "markdown",
   "metadata": {},
   "source": [
    "## Configuration"
   ]
  },
  {
   "attachments": {},
   "cell_type": "markdown",
   "metadata": {},
   "source": [
    "### Kaggle"
   ]
  },
  {
   "cell_type": "code",
   "execution_count": null,
   "metadata": {
    "tags": [],
    "vscode": {
     "languageId": "python"
    }
   },
   "outputs": [],
   "source": [
    "kaggle_username: str = '' #@param {type:\"string\"}\n",
    "kaggle_key: str = '' #@param {type:\"string\"}"
   ]
  },
  {
   "cell_type": "code",
   "execution_count": null,
   "metadata": {
    "vscode": {
     "languageId": "python"
    }
   },
   "outputs": [],
   "source": [
    "# turn into environment variables\n",
    "environ['KAGGLE_USERNAME'] = kaggle_username\n",
    "environ['KAGGLE_KEY'] = kaggle_key"
   ]
  },
  {
   "attachments": {},
   "cell_type": "markdown",
   "metadata": {},
   "source": [
    "### Wandb"
   ]
  },
  {
   "cell_type": "code",
   "execution_count": null,
   "metadata": {
    "vscode": {
     "languageId": "python"
    }
   },
   "outputs": [],
   "source": [
    "wandb_entity: str = '' #@param {type:\"string\"}\n",
    "wandb_project: str = '' #@param {type:\"string\"}\n",
    "\n",
    "wandb_save_code: bool = True #@param {type:\"boolean\"}"
   ]
  },
  {
   "attachments": {},
   "cell_type": "markdown",
   "metadata": {},
   "source": [
    "## Setup"
   ]
  },
  {
   "cell_type": "code",
   "execution_count": 5,
   "metadata": {
    "vscode": {
     "languageId": "python"
    }
   },
   "outputs": [
    {
     "name": "stderr",
     "output_type": "stream",
     "text": [
      "\u001b[34m\u001b[1mwandb\u001b[0m: Logging into wandb.ai. (Learn how to deploy a W&B server locally: https://wandb.me/wandb-server)\n",
      "\u001b[34m\u001b[1mwandb\u001b[0m: You can find your API key in your browser here: https://wandb.ai/authorize\n",
      "\u001b[34m\u001b[1mwandb\u001b[0m: Paste an API key from your profile and hit enter, or press ctrl+c to quit:\u001b[34m\u001b[1mwandb\u001b[0m: Appending key for api.wandb.ai to your netrc file: C:\\Users\\Kentv/.netrc\n"
     ]
    },
    {
     "data": {
      "text/plain": [
       "True"
      ]
     },
     "execution_count": 5,
     "metadata": {},
     "output_type": "execute_result"
    }
   ],
   "source": [
    "wandb.login()"
   ]
  },
  {
   "attachments": {},
   "cell_type": "markdown",
   "metadata": {},
   "source": [
    "### Downloading dataset"
   ]
  },
  {
   "cell_type": "code",
   "execution_count": 14,
   "metadata": {
    "vscode": {
     "languageId": "python"
    }
   },
   "outputs": [
    {
     "name": "stdout",
     "output_type": "stream",
     "text": [
      "Downloading counterstrike-globaloffensive-mapidentification.zip to C:\\Workspace\\ml-game-targeting\n",
      "\n"
     ]
    },
    {
     "name": "stderr",
     "output_type": "stream",
     "text": [
      "\n",
      "  0%|          | 0.00/150M [00:00<?, ?B/s]\n",
      "  1%|          | 1.00M/150M [00:00<00:26, 5.91MB/s]\n",
      "  1%|1         | 2.00M/150M [00:00<00:21, 7.09MB/s]\n",
      "  3%|2         | 4.00M/150M [00:00<00:17, 8.89MB/s]\n",
      "  3%|3         | 5.00M/150M [00:00<00:16, 9.00MB/s]\n",
      "  4%|4         | 6.00M/150M [00:00<00:16, 9.38MB/s]\n",
      "  5%|4         | 7.00M/150M [00:00<00:17, 8.64MB/s]\n",
      "  5%|5         | 8.00M/150M [00:01<00:18, 8.12MB/s]\n",
      "  6%|6         | 9.00M/150M [00:01<00:17, 8.63MB/s]\n",
      "  7%|6         | 10.0M/150M [00:01<00:18, 7.86MB/s]\n",
      "  8%|8         | 12.0M/150M [00:01<00:16, 9.02MB/s]\n",
      "  9%|9         | 14.0M/150M [00:01<00:14, 9.67MB/s]\n",
      " 10%|#         | 15.0M/150M [00:01<00:14, 9.68MB/s]\n",
      " 11%|#         | 16.0M/150M [00:01<00:14, 9.70MB/s]\n",
      " 12%|#2        | 18.0M/150M [00:02<00:13, 10.0MB/s]\n",
      " 13%|#3        | 20.0M/150M [00:02<00:13, 10.2MB/s]\n",
      " 14%|#4        | 21.0M/150M [00:02<00:13, 10.1MB/s]\n",
      " 15%|#4        | 22.0M/150M [00:02<00:13, 10.2MB/s]\n",
      " 16%|#6        | 24.0M/150M [00:02<00:12, 10.7MB/s]\n",
      " 17%|#7        | 26.0M/150M [00:02<00:12, 10.2MB/s]\n",
      " 18%|#8        | 27.0M/150M [00:02<00:12, 10.2MB/s]\n",
      " 19%|#8        | 28.0M/150M [00:03<00:13, 9.58MB/s]\n",
      " 19%|#9        | 29.0M/150M [00:03<00:14, 8.47MB/s]\n",
      " 21%|##        | 31.0M/150M [00:03<00:12, 10.3MB/s]\n",
      " 21%|##1       | 32.0M/150M [00:03<00:14, 8.64MB/s]\n",
      " 23%|##2       | 34.0M/150M [00:03<00:12, 9.48MB/s]\n",
      " 24%|##4       | 36.0M/150M [00:03<00:10, 11.1MB/s]\n",
      " 25%|##5       | 38.0M/150M [00:04<00:11, 10.6MB/s]\n",
      " 27%|##6       | 40.0M/150M [00:04<00:11, 9.97MB/s]\n",
      " 27%|##7       | 41.0M/150M [00:04<00:13, 8.42MB/s]\n",
      " 28%|##8       | 42.0M/150M [00:04<00:13, 8.13MB/s]\n",
      " 29%|##8       | 43.0M/150M [00:04<00:13, 8.36MB/s]\n",
      " 29%|##9       | 44.0M/150M [00:04<00:12, 8.69MB/s]\n",
      " 30%|###       | 45.0M/150M [00:05<00:12, 8.68MB/s]\n",
      " 31%|###       | 46.0M/150M [00:05<00:12, 9.05MB/s]\n",
      " 31%|###1      | 47.0M/150M [00:05<00:11, 9.27MB/s]\n",
      " 32%|###2      | 48.0M/150M [00:05<00:11, 9.27MB/s]\n",
      " 33%|###3      | 50.0M/150M [00:05<00:10, 9.67MB/s]\n",
      " 34%|###4      | 51.0M/150M [00:05<00:10, 9.62MB/s]\n",
      " 35%|###5      | 53.0M/150M [00:05<00:11, 8.99MB/s]\n",
      " 36%|###6      | 54.0M/150M [00:06<00:10, 9.22MB/s]\n",
      " 37%|###6      | 55.0M/150M [00:06<00:11, 8.58MB/s]\n",
      " 37%|###7      | 56.0M/150M [00:06<00:11, 8.60MB/s]\n",
      " 38%|###8      | 57.0M/150M [00:06<00:11, 8.58MB/s]\n",
      " 39%|###8      | 58.0M/150M [00:06<00:12, 7.95MB/s]\n",
      " 39%|###9      | 59.0M/150M [00:06<00:11, 8.40MB/s]\n",
      " 40%|####      | 60.0M/150M [00:06<00:10, 8.84MB/s]\n",
      " 41%|####      | 61.0M/150M [00:06<00:10, 8.64MB/s]\n",
      " 41%|####1     | 62.0M/150M [00:07<00:15, 5.85MB/s]\n",
      " 42%|####2     | 63.0M/150M [00:07<00:16, 5.59MB/s]\n",
      " 43%|####3     | 65.0M/150M [00:07<00:12, 7.11MB/s]\n",
      " 44%|####4     | 66.0M/150M [00:07<00:11, 7.50MB/s]\n",
      " 45%|####4     | 67.0M/150M [00:07<00:10, 8.04MB/s]\n",
      " 45%|####5     | 68.0M/150M [00:08<00:10, 8.56MB/s]\n",
      " 46%|####6     | 69.0M/150M [00:08<00:09, 8.99MB/s]\n",
      " 47%|####6     | 70.0M/150M [00:08<00:09, 8.86MB/s]\n",
      " 47%|####7     | 71.0M/150M [00:08<00:09, 9.10MB/s]\n",
      " 49%|####8     | 73.0M/150M [00:08<00:08, 9.72MB/s]\n",
      " 49%|####9     | 74.0M/150M [00:08<00:08, 9.88MB/s]\n",
      " 51%|#####     | 76.0M/150M [00:08<00:07, 10.3MB/s]\n",
      " 51%|#####1    | 77.0M/150M [00:08<00:07, 10.0MB/s]\n",
      " 53%|#####2    | 79.0M/150M [00:09<00:07, 10.0MB/s]\n",
      " 54%|#####4    | 81.0M/150M [00:09<00:06, 10.3MB/s]\n",
      " 55%|#####5    | 83.0M/150M [00:09<00:08, 8.59MB/s]\n",
      " 57%|#####6    | 85.0M/150M [00:09<00:07, 9.44MB/s]\n",
      " 57%|#####7    | 86.0M/150M [00:10<00:07, 8.86MB/s]\n",
      " 58%|#####8    | 87.0M/150M [00:10<00:07, 8.61MB/s]\n",
      " 59%|#####8    | 88.0M/150M [00:10<00:07, 8.95MB/s]\n",
      " 59%|#####9    | 89.0M/150M [00:10<00:07, 9.07MB/s]\n",
      " 60%|######    | 90.0M/150M [00:10<00:06, 9.14MB/s]\n",
      " 61%|######1   | 92.0M/150M [00:10<00:06, 9.61MB/s]\n",
      " 62%|######2   | 93.0M/150M [00:10<00:06, 9.14MB/s]\n",
      " 63%|######2   | 94.0M/150M [00:10<00:06, 8.95MB/s]\n",
      " 63%|######3   | 95.0M/150M [00:11<00:06, 9.14MB/s]\n",
      " 64%|######4   | 96.0M/150M [00:11<00:05, 9.43MB/s]\n",
      " 65%|######4   | 97.0M/150M [00:11<00:05, 9.60MB/s]\n",
      " 66%|######6   | 99.0M/150M [00:11<00:05, 10.1MB/s]\n",
      " 67%|######6   | 100M/150M [00:11<00:05, 10.2MB/s] \n",
      " 68%|######8   | 102M/150M [00:11<00:04, 10.3MB/s]\n",
      " 69%|######8   | 103M/150M [00:11<00:04, 10.1MB/s]\n",
      " 70%|#######   | 105M/150M [00:12<00:04, 9.96MB/s]\n",
      " 71%|#######   | 106M/150M [00:12<00:04, 10.1MB/s]\n",
      " 72%|#######2  | 108M/150M [00:12<00:04, 10.1MB/s]\n",
      " 73%|#######2  | 109M/150M [00:12<00:04, 10.1MB/s]\n",
      " 73%|#######3  | 110M/150M [00:12<00:04, 10.2MB/s]\n",
      " 74%|#######4  | 111M/150M [00:12<00:04, 9.93MB/s]\n",
      " 75%|#######5  | 113M/150M [00:12<00:03, 10.3MB/s]\n",
      " 76%|#######6  | 114M/150M [00:13<00:04, 9.12MB/s]\n",
      " 77%|#######6  | 115M/150M [00:13<00:03, 9.19MB/s]\n",
      " 78%|#######8  | 117M/150M [00:13<00:03, 9.39MB/s]\n",
      " 79%|#######9  | 119M/150M [00:13<00:03, 9.91MB/s]\n",
      " 80%|########  | 120M/150M [00:13<00:03, 9.79MB/s]\n",
      " 81%|########1 | 122M/150M [00:13<00:02, 9.90MB/s]\n",
      " 82%|########2 | 123M/150M [00:14<00:03, 8.56MB/s]\n",
      " 84%|########3 | 125M/150M [00:14<00:03, 8.50MB/s]\n",
      " 84%|########4 | 126M/150M [00:14<00:02, 8.68MB/s]\n",
      " 85%|########4 | 127M/150M [00:14<00:02, 8.90MB/s]\n",
      " 86%|########5 | 128M/150M [00:14<00:02, 9.02MB/s]\n",
      " 87%|########6 | 130M/150M [00:14<00:02, 9.28MB/s]\n",
      " 88%|########7 | 131M/150M [00:14<00:02, 8.84MB/s]\n",
      " 88%|########8 | 132M/150M [00:15<00:02, 7.31MB/s]\n",
      " 89%|########8 | 133M/150M [00:15<00:02, 7.43MB/s]\n",
      " 90%|########9 | 134M/150M [00:15<00:02, 7.85MB/s]\n",
      " 90%|######### | 135M/150M [00:15<00:01, 8.28MB/s]\n",
      " 91%|######### | 136M/150M [00:15<00:01, 8.66MB/s]\n",
      " 92%|#########1| 137M/150M [00:15<00:01, 9.06MB/s]\n",
      " 92%|#########2| 138M/150M [00:15<00:01, 9.30MB/s]\n",
      " 93%|#########2| 139M/150M [00:15<00:01, 9.30MB/s]\n",
      " 94%|#########4| 141M/150M [00:16<00:00, 9.68MB/s]\n",
      " 96%|#########5| 143M/150M [00:16<00:00, 10.2MB/s]\n",
      " 96%|#########6| 144M/150M [00:16<00:00, 10.2MB/s]\n",
      " 97%|#########6| 145M/150M [00:16<00:00, 10.1MB/s]\n",
      " 98%|#########7| 146M/150M [00:16<00:00, 8.68MB/s]\n",
      " 98%|#########8| 147M/150M [00:16<00:00, 9.05MB/s]\n",
      "100%|#########9| 149M/150M [00:17<00:00, 9.57MB/s]\n",
      "100%|##########| 150M/150M [00:17<00:00, 9.15MB/s]\n"
     ]
    }
   ],
   "source": [
    "!kaggle datasets download -d kentvejrupmadsen/counterstrike-globaloffensive-mapidentification"
   ]
  },
  {
   "cell_type": "code",
   "execution_count": null,
   "metadata": {
    "vscode": {
     "languageId": "python"
    }
   },
   "outputs": [],
   "source": []
  },
  {
   "cell_type": "code",
   "execution_count": null,
   "metadata": {
    "vscode": {
     "languageId": "python"
    }
   },
   "outputs": [],
   "source": [
    "wandb.finish()"
   ]
  }
 ],
 "metadata": {
  "colab": {
   "authorship_tag": "ABX9TyMgf00IDnVBqVu9EboB9I+w",
   "include_colab_link": true,
   "provenance": []
  },
  "kernelspec": {
   "display_name": "Python 3 (ipykernel)",
   "language": "python",
   "name": "python3"
  }
 },
 "nbformat": 4,
 "nbformat_minor": 4
}
